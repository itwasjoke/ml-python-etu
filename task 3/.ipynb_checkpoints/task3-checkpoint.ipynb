{
 "cells": [
  {
   "cell_type": "code",
   "execution_count": 15,
   "id": "07a48dd4-1a73-4b21-91ba-a3292766fbd4",
   "metadata": {},
   "outputs": [],
   "source": [
    "import pandas as pd\n",
    "from sklearn.model_selection import train_test_split\n",
    "from sklearn.linear_model import LinearRegression\n",
    "from sklearn.linear_model import LogisticRegression\n",
    "from sklearn.metrics import mean_absolute_error, r2_score\n",
    "from sklearn.impute import SimpleImputer\n",
    "from sklearn.feature_selection import mutual_info_classif\n",
    "from sklearn.preprocessing import LabelEncoder, OneHotEncoder\n",
    "from sklearn.preprocessing import OneHotEncoder\n",
    "from sklearn.metrics import accuracy_score\n",
    "import pickle"
   ]
  },
  {
   "cell_type": "code",
   "execution_count": 16,
   "id": "b8e8220f-b113-42a2-b119-93dc24c4dacf",
   "metadata": {},
   "outputs": [],
   "source": [
    "# 1. Загрузка данных\n",
    "data = pd.read_csv('bank-full.csv', sep=';')"
   ]
  },
  {
   "cell_type": "code",
   "execution_count": 17,
   "id": "b28cda19-dbe5-45da-8f76-979ebc6f39b4",
   "metadata": {},
   "outputs": [
    {
     "name": "stdout",
     "output_type": "stream",
     "text": [
      "\n",
      "Отобранные признаки: \n",
      "    age           job  marital  education  balance housing  contact  day month  \\\n",
      "0   58    management  married   tertiary     2143     yes  unknown    5   may   \n",
      "1   44    technician   single  secondary       29     yes  unknown    5   may   \n",
      "2   33  entrepreneur  married  secondary        2     yes  unknown    5   may   \n",
      "3   47   blue-collar  married    unknown     1506     yes  unknown    5   may   \n",
      "4   33       unknown   single    unknown        1      no  unknown    5   may   \n",
      "\n",
      "   duration  campaign  pdays  previous poutcome   y  \n",
      "0       261         1     -1         0  unknown  no  \n",
      "1       151         1     -1         0  unknown  no  \n",
      "2        76         1     -1         0  unknown  no  \n",
      "3        92         1     -1         0  unknown  no  \n",
      "4       198         1     -1         0  unknown  no  \n"
     ]
    }
   ],
   "source": [
    "# 2. Выбор признаков\n",
    "selected_cols = ['age', 'job', 'marital', 'education', 'balance', 'housing', 'contact', 'day', 'month', 'duration', 'campaign', 'pdays', 'previous', 'poutcome', 'y']\n",
    "data_selected = data[selected_cols]\n",
    "print(\"\\nОтобранные признаки: \\n\", data_selected.head())"
   ]
  },
  {
   "cell_type": "code",
   "execution_count": 18,
   "id": "59c55ca4-33c7-447b-b42c-eb2d9897841e",
   "metadata": {},
   "outputs": [
    {
     "name": "stdout",
     "output_type": "stream",
     "text": [
      "\n",
      "Количество пропущенных значений:\n",
      " age          0\n",
      "job          0\n",
      "marital      0\n",
      "education    0\n",
      "balance      0\n",
      "housing      0\n",
      "contact      0\n",
      "day          0\n",
      "month        0\n",
      "duration     0\n",
      "campaign     0\n",
      "pdays        0\n",
      "previous     0\n",
      "poutcome     0\n",
      "y            0\n",
      "dtype: int64\n"
     ]
    }
   ],
   "source": [
    "# 3. Проверка пропусков\n",
    "print(\"\\nКоличество пропущенных значений:\\n\", data_selected.isnull().sum())"
   ]
  },
  {
   "cell_type": "code",
   "execution_count": 19,
   "id": "7640fe1b-c05e-4106-90af-e53c31ac8b13",
   "metadata": {},
   "outputs": [
    {
     "name": "stdout",
     "output_type": "stream",
     "text": [
      "\n",
      "Самое частое значение в столбце 'education': secondary\n"
     ]
    }
   ],
   "source": [
    "# 4. Анализ колонки 'education'\n",
    "education_counts = data_selected['education']\n",
    "most_frequent_education = education_counts.mode()[0]\n",
    "print(f\"\\nСамое частое значение в столбце 'education': {most_frequent_education}\")"
   ]
  },
  {
   "cell_type": "code",
   "execution_count": 20,
   "id": "6d1b9726-6f85-4bb7-9653-b981ae62c8e0",
   "metadata": {},
   "outputs": [
    {
     "name": "stdout",
     "output_type": "stream",
     "text": [
      "\n",
      "Корреляционная матрица: \n",
      "                age   balance       day  duration  campaign     pdays  previous\n",
      "age       1.000000  0.097783 -0.009120 -0.004648  0.004760 -0.023758  0.001288\n",
      "balance   0.097783  1.000000  0.004503  0.021560 -0.014578  0.003435  0.016674\n",
      "day      -0.009120  0.004503  1.000000 -0.030206  0.162490 -0.093044 -0.051710\n",
      "duration -0.004648  0.021560 -0.030206  1.000000 -0.084570 -0.001565  0.001203\n",
      "campaign  0.004760 -0.014578  0.162490 -0.084570  1.000000 -0.088628 -0.032855\n",
      "pdays    -0.023758  0.003435 -0.093044 -0.001565 -0.088628  1.000000  0.454820\n",
      "previous  0.001288  0.016674 -0.051710  0.001203 -0.032855  0.454820  1.000000\n"
     ]
    }
   ],
   "source": [
    "# 5. Отбор численных признаков\n",
    "numeric_features = ['age', 'balance', 'day', 'duration', 'campaign', 'pdays', 'previous']\n",
    "numeric_data = data_selected[numeric_features]\n",
    "\n",
    "# 6. Расчет корреляционной матрицы\n",
    "correlation_matrix = numeric_data.corr()\n",
    "print(\"\\nКорреляционная матрица: \\n\", correlation_matrix)"
   ]
  },
  {
   "cell_type": "code",
   "execution_count": 21,
   "id": "b89a36d5-8d29-4f2b-9678-edab354d8872",
   "metadata": {},
   "outputs": [
    {
     "name": "stdout",
     "output_type": "stream",
     "text": [
      "\n",
      "Наибольшая корреляция: 0.4548 между pdays и previous\n"
     ]
    }
   ],
   "source": [
    "# 7. Поиск пары признаков с наибольшей корреляцией\n",
    "max_correlation = 0\n",
    "highest_correlated_pair = ('', '')\n",
    "for i in range(len(correlation_matrix.columns)):\n",
    "    for j in range(i + 1, len(correlation_matrix.columns)):\n",
    "        correlation_value = abs(correlation_matrix.iloc[i, j])\n",
    "        if correlation_value > max_correlation:\n",
    "            max_correlation = correlation_value\n",
    "            highest_correlated_pair = (correlation_matrix.columns[i], correlation_matrix.columns[j])\n",
    "print(f\"\\nНаибольшая корреляция: {max_correlation:.4f} между {highest_correlated_pair[0]} и {highest_correlated_pair[1]}\")"
   ]
  },
  {
   "cell_type": "code",
   "execution_count": 22,
   "id": "97955919-86c8-4481-82e6-979f4bff8125",
   "metadata": {},
   "outputs": [
    {
     "name": "stdout",
     "output_type": "stream",
     "text": [
      "\n",
      "Первые 5 строк с закодированной целевой переменной: \n",
      "    age           job  marital  education  balance housing  contact  day month  \\\n",
      "0   58    management  married   tertiary     2143     yes  unknown    5   may   \n",
      "1   44    technician   single  secondary       29     yes  unknown    5   may   \n",
      "2   33  entrepreneur  married  secondary        2     yes  unknown    5   may   \n",
      "3   47   blue-collar  married    unknown     1506     yes  unknown    5   may   \n",
      "4   33       unknown   single    unknown        1      no  unknown    5   may   \n",
      "\n",
      "   duration  campaign  pdays  previous poutcome  y  \n",
      "0       261         1     -1         0  unknown  0  \n",
      "1       151         1     -1         0  unknown  0  \n",
      "2        76         1     -1         0  unknown  0  \n",
      "3        92         1     -1         0  unknown  0  \n",
      "4       198         1     -1         0  unknown  0  \n"
     ]
    }
   ],
   "source": [
    "# 8. Подготовка данных для классификации\n",
    "data_prep = pd.read_csv('bank-full.csv', sep=';')\n",
    "data_prep = data_prep[selected_cols]\n",
    "\n",
    "# 9. Кодирование целевой переменной\n",
    "data_prep['y'] = data_prep['y'].map({'yes': 1, 'no': 0})\n",
    "print(\"\\nПервые 5 строк с закодированной целевой переменной: \\n\", data_prep.head())"
   ]
  },
  {
   "cell_type": "code",
   "execution_count": 23,
   "id": "797fd76a-f8d9-4519-a849-c0abfd637e9e",
   "metadata": {},
   "outputs": [
    {
     "name": "stdout",
     "output_type": "stream",
     "text": [
      "\n",
      "Размеры наборов: \n",
      "Тренировочный: (27126, 7), (27126,)\n",
      "Валидационный: (9042, 7), (9042,)\n",
      "Тестовый: (9043, 7), (9043,)\n"
     ]
    }
   ],
   "source": [
    "# 10. Кодирование категориальных переменных\n",
    "label_encoder = LabelEncoder()\n",
    "for column in data_prep.select_dtypes(include=['object']):\n",
    "    data_prep[column] = label_encoder.fit_transform(data_prep[column])\n",
    "\n",
    "# 11. Выбор категориальных признаков для модели\n",
    "categorical_features = ['job', 'marital', 'education', 'housing', 'contact', 'month', 'poutcome']\n",
    "X_data = data_prep[categorical_features]\n",
    "\n",
    "y_data = data_prep['y']\n",
    "\n",
    "# 12. Разделение на тренировочный, валидационный и тестовый наборы\n",
    "X_train, X_temp, y_train, y_temp = train_test_split(X_data, y_data, test_size=0.4, random_state=42)\n",
    "X_val, X_test, y_val, y_test = train_test_split(X_temp, y_temp, test_size=0.5, random_state=42)\n",
    "print(f\"\\nРазмеры наборов: \\nТренировочный: {X_train.shape}, {y_train.shape}\\nВалидационный: {X_val.shape}, {y_val.shape}\\nТестовый: {X_test.shape}, {y_test.shape}\")"
   ]
  },
  {
   "cell_type": "code",
   "execution_count": 24,
   "id": "7e372f37-91ce-4478-b9f8-bff3feb69dd5",
   "metadata": {},
   "outputs": [
    {
     "name": "stdout",
     "output_type": "stream",
     "text": [
      "\n",
      "Взаимная информация: \n",
      " job          0.01\n",
      "marital      0.00\n",
      "education    0.00\n",
      "housing      0.01\n",
      "contact      0.01\n",
      "month        0.02\n",
      "poutcome     0.03\n",
      "Name: Mutual Info, dtype: float64\n"
     ]
    }
   ],
   "source": [
    "# 13. Вычисление взаимной информации\n",
    "mutual_info = mutual_info_classif(X_train, y_train, discrete_features=True)\n",
    "mutual_info_series = pd.Series(mutual_info, index=X_train.columns, name='Mutual Info')\n",
    "mutual_info_series = mutual_info_series.round(2)\n",
    "print(\"\\nВзаимная информация: \\n\", mutual_info_series)"
   ]
  },
  {
   "cell_type": "code",
   "execution_count": 25,
   "id": "7587b6a2-b76f-4bba-981c-eeba181a1d81",
   "metadata": {},
   "outputs": [
    {
     "name": "stdout",
     "output_type": "stream",
     "text": [
      "\n",
      " Признак с наиб. взаимной информацией: poutcome\n"
     ]
    }
   ],
   "source": [
    "# 14. Определение признака с наибольшей взаимной информацией\n",
    "feature_max_mutual_info = mutual_info_series.idxmax()\n",
    "print(f\"\\n Признак с наиб. взаимной информацией: {feature_max_mutual_info}\")"
   ]
  },
  {
   "cell_type": "code",
   "execution_count": 26,
   "id": "b0562f5f-bbef-4826-8f50-772861d7e3af",
   "metadata": {},
   "outputs": [
    {
     "name": "stdout",
     "output_type": "stream",
     "text": [
      "\n",
      "Точность на валидационном наборе: 0.89\n"
     ]
    }
   ],
   "source": [
    "# 15. Кодирование с помощью OneHotEncoder\n",
    "encoder = OneHotEncoder(handle_unknown='ignore', sparse_output=False) # sparse=False for easier handling\n",
    "X_train_encoded = encoder.fit_transform(X_train)\n",
    "X_val_encoded = encoder.transform(X_val)\n",
    "\n",
    "# 16. Обучение модели логистической регрессии\n",
    "model = LogisticRegression(solver='liblinear', C=1.0, max_iter=1000, random_state=42)\n",
    "model.fit(X_train_encoded, y_train)\n",
    "\n",
    "# 17. Прогноз и оценка точности\n",
    "y_pred = model.predict(X_val_encoded)\n",
    "accuracy = accuracy_score(y_val, y_pred)\n",
    "print(f\"\\nТочность на валидационном наборе: {accuracy:.2f}\")"
   ]
  },
  {
   "cell_type": "code",
   "execution_count": 27,
   "id": "fbb3e84d-8827-4a1c-bf17-269a0cf1a9c1",
   "metadata": {},
   "outputs": [
    {
     "name": "stdout",
     "output_type": "stream",
     "text": [
      "\n",
      "Взаимная информация для всех признаков: \n",
      "           Mutual Info\n",
      "duration     0.069842\n",
      "poutcome     0.033243\n",
      "pdays        0.028056\n",
      "month        0.027712\n",
      "balance      0.018756\n"
     ]
    }
   ],
   "source": [
    "# 18. Подготовка полных данных\n",
    "data_full = pd.read_csv('bank-full.csv', sep=';')\n",
    "data_full = data_full[selected_cols]\n",
    "data_full['y'] = data_full['y'].map({'yes': 1, 'no': 0})\n",
    "\n",
    "# 19. Label Encoding\n",
    "label_encoder_full = LabelEncoder()\n",
    "for col in data_full.select_dtypes(include=['object']):\n",
    "    data_full[col] = label_encoder_full.fit_transform(data_full[col])\n",
    "\n",
    "# 20. Выбор всех признаков\n",
    "all_features = ['job', 'marital', 'education', 'housing', 'contact', 'month', 'poutcome', 'age', 'balance', 'previous', 'duration', 'pdays', 'campaign']\n",
    "X_all = data_full[all_features]\n",
    "y_all = data_full['y']\n",
    "\n",
    "# 21. Разделение полных данных\n",
    "X_train_full, X_temp_full, y_train_full, y_temp_full = train_test_split(X_all, y_all, test_size=0.4, random_state=42)\n",
    "X_val_full, X_test_full, y_val_full, y_test_full = train_test_split(X_temp_full, y_temp_full, test_size=0.5, random_state=42)\n",
    "\n",
    "# 22. One Hot Encoding\n",
    "categorical_cols = X_all.select_dtypes(include=['object']).columns\n",
    "\n",
    "encoder_full = OneHotEncoder(sparse_output=False, drop='first', handle_unknown='ignore')\n",
    "X_encoded_full = encoder_full.fit_transform(X_all[categorical_cols])\n",
    "feature_names_full = encoder_full.get_feature_names_out(categorical_cols)\n",
    "X_encoded_df = pd.DataFrame(X_encoded_full, columns=feature_names_full)\n",
    "numeric_cols_full = X_all.select_dtypes(include=['number']).columns\n",
    "X_final = pd.concat([X_encoded_df, X_all[numeric_cols_full].reset_index(drop=True)], axis=1)\n",
    "\n",
    "# 23. Разделение final dataset\n",
    "X_train_final, X_test_final, y_train_final, y_test_final = train_test_split(X_final, y_all, test_size=0.2, random_state=42)\n",
    "\n",
    "# 24. Взаимная информация для полных данных\n",
    "mutual_info_full = mutual_info_classif(X_train_final, y_train_final)\n",
    "mutual_info_df_full = pd.DataFrame(mutual_info_full, index=X_train_final.columns, columns=['Mutual Info']).sort_values(by='Mutual Info', ascending=False)\n",
    "print(\"\\nВзаимная информация для всех признаков: \\n\", mutual_info_df_full.head())"
   ]
  },
  {
   "cell_type": "code",
   "execution_count": 28,
   "id": "778cdf9f-3058-4aa1-8bcc-280447506758",
   "metadata": {},
   "outputs": [
    {
     "name": "stdout",
     "output_type": "stream",
     "text": [
      "Точность для C = 0.01: 0.889\n",
      "Точность для C = 0.1: 0.890\n",
      "Точность для C = 1: 0.891\n",
      "Точность для C = 10: 0.891\n",
      "\n",
      " Наилучшая точность: 0.891 (C = 10)\n"
     ]
    }
   ],
   "source": [
    "# 25. Подбор гиперпараметра C\n",
    "C_values = [0.01, 0.1, 1, 10]\n",
    "best_val_accuracy = 0\n",
    "best_C = None\n",
    "\n",
    "for C in C_values:\n",
    "    model_full = LogisticRegression(solver='liblinear', C=C, max_iter=1000, random_state=42)\n",
    "    model_full.fit(X_train_final, y_train_final)\n",
    "    y_pred_val = model_full.predict(X_val_full)\n",
    "    val_accuracy = accuracy_score(y_val_full, y_pred_val)\n",
    "    print(f\"Точность для C = {C}: {val_accuracy:.3f}\")\n",
    "\n",
    "    if val_accuracy > best_val_accuracy:\n",
    "        best_val_accuracy = val_accuracy\n",
    "        best_C = C\n",
    "\n",
    "print(f\"\\n Наилучшая точность: {best_val_accuracy:.3f} (C = {best_C})\")"
   ]
  },
  {
   "cell_type": "code",
   "execution_count": null,
   "id": "27db261d-93c5-4e66-af79-82c4fe59358e",
   "metadata": {},
   "outputs": [],
   "source": []
  }
 ],
 "metadata": {
  "kernelspec": {
   "display_name": "Python 3 (ipykernel)",
   "language": "python",
   "name": "python3"
  },
  "language_info": {
   "codemirror_mode": {
    "name": "ipython",
    "version": 3
   },
   "file_extension": ".py",
   "mimetype": "text/x-python",
   "name": "python",
   "nbconvert_exporter": "python",
   "pygments_lexer": "ipython3",
   "version": "3.12.6"
  }
 },
 "nbformat": 4,
 "nbformat_minor": 5
}
